{
 "cells": [
  {
   "cell_type": "markdown",
   "metadata": {},
   "source": [
    "### String Functions\n",
    "- upper() -- will convert string into upper case\n",
    "- lower() -- will convert string into lower case\n",
    "- capitalize() -- makes the string as a title"
   ]
  },
  {
   "cell_type": "code",
   "execution_count": 27,
   "metadata": {},
   "outputs": [
    {
     "name": "stdout",
     "output_type": "stream",
     "text": [
      "PYTHON\n",
      "python\n",
      "Python\n"
     ]
    }
   ],
   "source": [
    "s1=\"python\"\n",
    "print(s1.upper())\n",
    "print(s1.lower())\n",
    "print(s1.capitalize())"
   ]
  },
  {
   "cell_type": "markdown",
   "metadata": {},
   "source": [
    "### String Boolean Functions\n",
    "- True or False\n",
    "- islower() -- True if string have all characters lower case\n",
    "- isupper() -- True if string have all characters upper case\n",
    "- istitle() -- True if string in title case\n",
    "- isnumeric() -- True if string contains all numbers\n",
    "- isalpha() -- True if string contains all characters\n",
    "- isalnum() -- True if string contains any one of alphabets or numbers\n",
    "- isspace() -- True if string contains space"
   ]
  },
  {
   "cell_type": "code",
   "execution_count": 13,
   "metadata": {},
   "outputs": [
    {
     "name": "stdout",
     "output_type": "stream",
     "text": [
      "False\n",
      "True\n"
     ]
    }
   ],
   "source": [
    "s1=\"python\"\n",
    "print(s1.isupper())\n",
    "print(s1.islower())"
   ]
  },
  {
   "cell_type": "code",
   "execution_count": 15,
   "metadata": {},
   "outputs": [
    {
     "name": "stdout",
     "output_type": "stream",
     "text": [
      "True\n"
     ]
    }
   ],
   "source": [
    "s1=\"Python\"\n",
    "print(s1.istitle())"
   ]
  },
  {
   "cell_type": "code",
   "execution_count": 19,
   "metadata": {},
   "outputs": [
    {
     "name": "stdout",
     "output_type": "stream",
     "text": [
      "True\n"
     ]
    }
   ],
   "source": [
    "s1=\"123\"\n",
    "print(s1.isnumeric())"
   ]
  },
  {
   "cell_type": "code",
   "execution_count": 20,
   "metadata": {},
   "outputs": [
    {
     "name": "stdout",
     "output_type": "stream",
     "text": [
      "True\n"
     ]
    }
   ],
   "source": [
    "s1=\"python\"\n",
    "print(s1.isalpha())"
   ]
  },
  {
   "cell_type": "code",
   "execution_count": 22,
   "metadata": {},
   "outputs": [
    {
     "name": "stdout",
     "output_type": "stream",
     "text": [
      "True\n"
     ]
    }
   ],
   "source": [
    "s1=\"123python\"\n",
    "print(s1.isalnum())"
   ]
  },
  {
   "cell_type": "code",
   "execution_count": 25,
   "metadata": {},
   "outputs": [
    {
     "name": "stdout",
     "output_type": "stream",
     "text": [
      "True\n"
     ]
    }
   ],
   "source": [
    "s1=\"        \"\n",
    "print(s1.isspace())"
   ]
  },
  {
   "cell_type": "markdown",
   "metadata": {},
   "source": [
    "### String Methods\n",
    "- split() -- splits the string with spaces\n",
    "- splits('a') -- splits the string withrespect to a\n",
    "- replace() -- returns the string replaces by word/character\n",
    "- join() -- concatenation of two strings"
   ]
  },
  {
   "cell_type": "code",
   "execution_count": 30,
   "metadata": {},
   "outputs": [
    {
     "data": {
      "text/plain": [
       "['python', 'programing', 'learn', 'made', 'easy']"
      ]
     },
     "execution_count": 30,
     "metadata": {},
     "output_type": "execute_result"
    }
   ],
   "source": [
    "s1=\"python programing learn made easy\"\n",
    "li=s1.split()\n",
    "li"
   ]
  },
  {
   "cell_type": "code",
   "execution_count": 31,
   "metadata": {},
   "outputs": [
    {
     "data": {
      "text/plain": [
       "['python progr', 'ming le', 'rn m', 'de e', 'sy']"
      ]
     },
     "execution_count": 31,
     "metadata": {},
     "output_type": "execute_result"
    }
   ],
   "source": [
    "s1=\"python programing learn made easy\"\n",
    "li=s1.split('a')\n",
    "li"
   ]
  },
  {
   "cell_type": "code",
   "execution_count": 39,
   "metadata": {},
   "outputs": [
    {
     "data": {
      "text/plain": [
       "'python progr@ming le@rn m@de e@sy @'"
      ]
     },
     "execution_count": 39,
     "metadata": {},
     "output_type": "execute_result"
    }
   ],
   "source": [
    "s1=\"python programing learn made easy a\"\n",
    "s1.replace('a','@',5)"
   ]
  },
  {
   "cell_type": "code",
   "execution_count": 35,
   "metadata": {},
   "outputs": [
    {
     "name": "stdout",
     "output_type": "stream",
     "text": [
      "p y t h o n\n"
     ]
    }
   ],
   "source": [
    "s1=\"python\"\n",
    "print(\" \".join(s1))"
   ]
  },
  {
   "cell_type": "markdown",
   "metadata": {},
   "source": [
    "### String formatting\n",
    "- Classic Version\n",
    "- Current Version Python"
   ]
  },
  {
   "cell_type": "code",
   "execution_count": 40,
   "metadata": {},
   "outputs": [
    {
     "name": "stdout",
     "output_type": "stream",
     "text": [
      "python programming\n"
     ]
    }
   ],
   "source": [
    "# Classic version (c and c++)\n",
    "li = [\"python\",\"programming\"]\n",
    "print('%s %s'%(li[0],li[1]))"
   ]
  },
  {
   "cell_type": "code",
   "execution_count": 41,
   "metadata": {},
   "outputs": [
    {
     "name": "stdout",
     "output_type": "stream",
     "text": [
      "1 2 3 4\n"
     ]
    }
   ],
   "source": [
    "li=[1,2,3,4]\n",
    "print(\"%d %d %d %d\"%(li[0],li[1],li[2],li[3]))"
   ]
  },
  {
   "cell_type": "code",
   "execution_count": 45,
   "metadata": {},
   "outputs": [
    {
     "name": "stdout",
     "output_type": "stream",
     "text": [
      "List item 0:python\n",
      "List item 1:programming\n"
     ]
    }
   ],
   "source": [
    "li = [\"python\",\"programming\"]\n",
    "print(\"List item 0:{0}\\nList item 1:{1}\".format(li[0],li[1]))"
   ]
  },
  {
   "cell_type": "code",
   "execution_count": 46,
   "metadata": {},
   "outputs": [
    {
     "name": "stdout",
     "output_type": "stream",
     "text": [
      "1 2 3 4\n"
     ]
    }
   ],
   "source": [
    "li=[1,2,3,4]\n",
    "print(\"{0} {1} {2} {3}\".format(li[0],li[1],li[2],li[3]))"
   ]
  },
  {
   "cell_type": "markdown",
   "metadata": {},
   "source": [
    "## Data Structures\n",
    "- List\n",
    "- Tuple\n",
    "- Dictionaries"
   ]
  },
  {
   "cell_type": "markdown",
   "metadata": {},
   "source": [
    "### Dictionaries\n",
    "- It works on concept of unique data\n",
    "- Key,Value is the unique Identifier a Value\n",
    "- Each key is separated from value colon(:)\n",
    "- Each key and value is separeated by comma(,)\n",
    "- Dictionaries are enclosed with curly brackets({})"
   ]
  },
  {
   "cell_type": "code",
   "execution_count": 69,
   "metadata": {},
   "outputs": [
    {
     "name": "stdout",
     "output_type": "stream",
     "text": [
      "{'Name': 'gitam', 'EmailId': 'gitamvizag@gmail.com', 'Address': 'Vizag'}\n"
     ]
    }
   ],
   "source": [
    "d1={\"Name\":\"gitam\",\"EmailId\":\"gitamvizag@gmail.com\",\"Address\":\"Vizag\"}\n",
    "print(d1)"
   ]
  },
  {
   "cell_type": "code",
   "execution_count": 67,
   "metadata": {},
   "outputs": [
    {
     "data": {
      "text/plain": [
       "'gitamvizag@gmail.com'"
      ]
     },
     "execution_count": 67,
     "metadata": {},
     "output_type": "execute_result"
    }
   ],
   "source": [
    "d1[\"EmailId\"]"
   ]
  },
  {
   "cell_type": "code",
   "execution_count": 70,
   "metadata": {},
   "outputs": [
    {
     "data": {
      "text/plain": [
       "{'Name': 'gitam',\n",
       " 'EmailId': 'gitamvizag@gmail.com',\n",
       " 'Address': 'Vizag',\n",
       " 'EmailID': 'Gitam@gmail.com'}"
      ]
     },
     "execution_count": 70,
     "metadata": {},
     "output_type": "execute_result"
    }
   ],
   "source": [
    "d1[\"EmailID\"]=\"Gitam@gmail.com\"#update the value key\n",
    "d1"
   ]
  },
  {
   "cell_type": "code",
   "execution_count": 64,
   "metadata": {},
   "outputs": [
    {
     "data": {
      "text/plain": [
       "{'Name': 'gitam',\n",
       " 'EmailId': 'gitamvizag@gmail.com',\n",
       " 'Address': 'Vizag',\n",
       " 'EmailID': 'Gitam@gmail.com',\n",
       " 'GmailID': 'Gitam@gmail.com'}"
      ]
     },
     "execution_count": 64,
     "metadata": {},
     "output_type": "execute_result"
    }
   ],
   "source": [
    "d1[\"GmailID\"]=\"Gitam@gmail.com\"#adds to the dictionary\n",
    "d1"
   ]
  },
  {
   "cell_type": "code",
   "execution_count": 65,
   "metadata": {},
   "outputs": [
    {
     "data": {
      "text/plain": [
       "dict_keys(['Name', 'EmailId', 'Address', 'EmailID', 'GmailID'])"
      ]
     },
     "execution_count": 65,
     "metadata": {},
     "output_type": "execute_result"
    }
   ],
   "source": [
    "d1.keys()"
   ]
  },
  {
   "cell_type": "code",
   "execution_count": 58,
   "metadata": {},
   "outputs": [
    {
     "data": {
      "text/plain": [
       "dict_values(['gitam', 'Gitam@gmail.com', 'Vizag', 'Gitam@gmail.com'])"
      ]
     },
     "execution_count": 58,
     "metadata": {},
     "output_type": "execute_result"
    }
   ],
   "source": [
    "d1.values()"
   ]
  },
  {
   "cell_type": "code",
   "execution_count": 71,
   "metadata": {},
   "outputs": [
    {
     "data": {
      "text/plain": [
       "{'Name': 'gitam', 'Address': 'Vizag', 'EmailID': 'Gitam@gmail.com'}"
      ]
     },
     "execution_count": 71,
     "metadata": {},
     "output_type": "execute_result"
    }
   ],
   "source": [
    "del d1[\"EmailId\"]\n",
    "d1"
   ]
  },
  {
   "cell_type": "markdown",
   "metadata": {},
   "source": [
    "### Contact Application\n",
    "- Add Contact Details\n",
    "- Search the contact details\n",
    "- list all contacts(merge/import)\n",
    "    - Name 1:value\n",
    "    - Name 2:value\n",
    "- Modify and update the contacts\n",
    "- Delete the contacts details"
   ]
  },
  {
   "cell_type": "code",
   "execution_count": 100,
   "metadata": {},
   "outputs": [
    {
     "name": "stdout",
     "output_type": "stream",
     "text": [
      "Contact Added Successfully\n",
      "Contact Added Successfully\n",
      "Name is already exists\n"
     ]
    }
   ],
   "source": [
    "contacts = {}# empty dictionary object\n",
    "# lets create a function to add contact details\n",
    "def addContact(name,phone):\n",
    "    if name not in contacts:\n",
    "        contacts[name]=phone\n",
    "        print(\"Contact Added Successfully\")\n",
    "    else:\n",
    "        print(\"Name is already exists\")\n",
    "    return\n",
    "addContact('cr',6302634470)\n",
    "addContact('rakesh',8179795396)\n",
    "addContact('cr',6586565665)"
   ]
  },
  {
   "cell_type": "code",
   "execution_count": 101,
   "metadata": {},
   "outputs": [
    {
     "name": "stdout",
     "output_type": "stream",
     "text": [
      "cr  :  6302634470\n",
      "hii does not exist\n",
      "rakesh  :  8179795396\n"
     ]
    }
   ],
   "source": [
    "def searchcontact(name):\n",
    "    if name in contacts:\n",
    "        print(name,\" : \",contacts[name])\n",
    "    else:\n",
    "        print('%s does not exist'%name)\n",
    "    return\n",
    "searchcontact(\"cr\")\n",
    "searchcontact(\"hii\")\n",
    "searchcontact(\"rakesh\")"
   ]
  },
  {
   "cell_type": "code",
   "execution_count": 102,
   "metadata": {},
   "outputs": [
    {
     "name": "stdout",
     "output_type": "stream",
     "text": [
      "3 contacts are added\n"
     ]
    },
    {
     "data": {
      "text/plain": [
       "{'cr': 6302634470,\n",
       " 'rakesh': 928320309,\n",
       " 'Anil': 55486846668,\n",
       " 'python': 68948654656}"
      ]
     },
     "execution_count": 102,
     "metadata": {},
     "output_type": "execute_result"
    }
   ],
   "source": [
    "# Import new contact details\n",
    "# merge the previous details with new details\n",
    "def importContacts(newContacts):\n",
    "    contacts.update(newContacts)\n",
    "    print(len(newContacts.keys()),'contacts are added')\n",
    "    return\n",
    "newContacts={'rakesh':928320309,'Anil':55486846668,'python':68948654656}\n",
    "importContacts(newContacts)\n",
    "contacts"
   ]
  },
  {
   "cell_type": "code",
   "execution_count": 103,
   "metadata": {},
   "outputs": [
    {
     "name": "stdout",
     "output_type": "stream",
     "text": [
      "Anil updated successfully\n",
      "Naveen not exists\n"
     ]
    },
    {
     "data": {
      "text/plain": [
       "{'cr': 6302634470,\n",
       " 'rakesh': 928320309,\n",
       " 'Anil': 789456123,\n",
       " 'python': 68948654656}"
      ]
     },
     "execution_count": 103,
     "metadata": {},
     "output_type": "execute_result"
    }
   ],
   "source": [
    "def modifyContact(name,phone):\n",
    "    if name in contacts:\n",
    "        contacts[name]=phone\n",
    "        print(name,\"updated successfully\")\n",
    "    else:\n",
    "        print(name,\"not exists\")\n",
    "    return\n",
    "modifyContact('Anil',789456123)\n",
    "modifyContact('Naveen',8784654664)\n",
    "contacts"
   ]
  },
  {
   "cell_type": "code",
   "execution_count": 104,
   "metadata": {},
   "outputs": [
    {
     "name": "stdout",
     "output_type": "stream",
     "text": [
      "Your details are deleted successfully\n",
      "Your details are deleted successfully\n",
      "Name is not present\n"
     ]
    }
   ],
   "source": [
    "def deleteContact(name):\n",
    "    if name in contacts:\n",
    "        del contacts[name]\n",
    "        print(\"Your details are deleted successfully\")\n",
    "    else:\n",
    "        print(\"Name is not present\")\n",
    "    return\n",
    "deleteContact('rakesh')\n",
    "deleteContact('python')\n",
    "deleteContact('Naveen')"
   ]
  },
  {
   "cell_type": "markdown",
   "metadata": {},
   "source": [
    "# Tuples\n",
    "- Tuples enclosed with parenthesis"
   ]
  },
  {
   "cell_type": "markdown",
   "metadata": {},
   "source": [
    "### Differences between tuples and list\n",
    "- list are mutable -- can be changed/modify\n",
    "    - read and write the data\n",
    "- tuples are immutable -- can't be changed/modify\n",
    "    - read data only"
   ]
  },
  {
   "cell_type": "code",
   "execution_count": 106,
   "metadata": {},
   "outputs": [
    {
     "name": "stdout",
     "output_type": "stream",
     "text": [
      "(1, 2, 3, 4, 5)\n",
      "<class 'tuple'>\n"
     ]
    }
   ],
   "source": [
    "t1=(1,2,3,4,5)\n",
    "print(t1)\n",
    "print(type(t1))"
   ]
  },
  {
   "cell_type": "code",
   "execution_count": 107,
   "metadata": {},
   "outputs": [
    {
     "name": "stdout",
     "output_type": "stream",
     "text": [
      "(2, 1)\n"
     ]
    }
   ],
   "source": [
    "print(t1[1::-1])"
   ]
  },
  {
   "cell_type": "markdown",
   "metadata": {},
   "source": [
    "# Standard Libraries\n",
    "- Regular Expressions\n",
    "    - To validate the Indian mobile\n",
    "    - To validate email id\n",
    "    - To validate Username\n",
    "    - To validate Password\n",
    "- Understanding the Regular Expressions\n",
    "    - [0-9] --- Any digit Matching\n",
    "    - [a-z] --- Any lower case matching\n",
    "    - [A-Z] --- Any upper case matching\n",
    "    - cap Symbol is used to represent the start of regular Expression\n",
    "    - Dollor Symbol is used to represent the end of regular Expression"
   ]
  },
  {
   "cell_type": "code",
   "execution_count": 3,
   "metadata": {},
   "outputs": [
    {
     "name": "stdout",
     "output_type": "stream",
     "text": [
      "True\n",
      "False\n"
     ]
    }
   ],
   "source": [
    "#function to test the two digit number as input\n",
    "# true --- input 2 digit number\n",
    "# false --- input not a digit number\n",
    "import re\n",
    "def twodigitMatching(n):\n",
    "    pattern='^[0-9]{2}$'\n",
    "    n=str(n)\n",
    "    if re.match(pattern,n):\n",
    "        return True\n",
    "    return False\n",
    "print(twodigitMatching(12))\n",
    "print(twodigitMatching(123))"
   ]
  },
  {
   "cell_type": "code",
   "execution_count": 4,
   "metadata": {},
   "outputs": [
    {
     "name": "stdout",
     "output_type": "stream",
     "text": [
      "True\n",
      "False\n",
      "False\n"
     ]
    }
   ],
   "source": [
    "# Regular Expression for username\n",
    "# username -- Should contain lower and upper case characters\n",
    "# length -- min =5 and max=12\n",
    "def validateUsername(s):\n",
    "    pattern='^[a-zA-Z]{5,12}$'\n",
    "    if re.match(pattern,s):\n",
    "        return True\n",
    "    return False\n",
    "print(validateUsername('Anilkumar'))\n",
    "print(validateUsername('Anil'))\n",
    "print(validateUsername('problemsolvingandprogramming'))"
   ]
  },
  {
   "cell_type": "markdown",
   "metadata": {},
   "source": [
    "### Regular Expression\n",
    "- Regular Expression for Password\n",
    "    - example:487455A544 #valid\n",
    "    - example:54545A54 #not valid\n",
    "- Regular Expression for Password\n",
    "    - Parameters - Len min 6 to 10\n",
    "    - accept lower ,upper case characters as well as digits and spl(@,!,#)\n",
    "    - Example : Pass123@21 # Valid\n",
    "    - Example : Pass12*21 # Not Valid"
   ]
  },
  {
   "cell_type": "code",
   "execution_count": 20,
   "metadata": {},
   "outputs": [
    {
     "name": "stdout",
     "output_type": "stream",
     "text": [
      "True\n",
      "False\n",
      "False\n"
     ]
    }
   ],
   "source": [
    "def validatepassword(s):\n",
    "    pattern='^[a-zA-Z@!#0-9]{6,10}$'\n",
    "    if re.match(pattern,s):\n",
    "        return True\n",
    "    return False\n",
    "print(validatepassword('AnilKumar'))\n",
    "print(validatepassword('Anil'))\n",
    "print(validatepassword('problemsolvingandprogramming'))"
   ]
  },
  {
   "cell_type": "markdown",
   "metadata": {},
   "source": [
    "### Regular expression for Indian Mobile\n",
    "- 10 digit Number\n",
    "    - First nnumber is starts from [6-9]\n",
    "    - Rest of nine numbers is between  [0-9]\n",
    "        - Example:9851741520 # true\n",
    "        - Example:5975565464 # false\n",
    "- 11 digit number \n",
    "    - First number can be 0\n",
    "    - second number can be [6-9]\n",
    "    - rest of 9 numbers is between [0-9]\n",
    "        - Example:09851741520 # true\n",
    "        - Example:95975565464 # false\n",
    "- 13 digit number \n",
    "    - first number can be +\n",
    "    - second number 9\n",
    "    - third number 1\n",
    "    - fourth number can be [6-9]\n",
    "    - rest of numbers [0-9]\n",
    "        - Example:+919851741520 # true\n",
    "        - Example:+915975565464 # false"
   ]
  },
  {
   "cell_type": "code",
   "execution_count": 1,
   "metadata": {},
   "outputs": [],
   "source": [
    "#rule 1:^[6-9][0-9]{9}$\n",
    "#rule 2:^[0][6-9][0-9]{9}$\n",
    "#rule 3:^[+][9][1][6-9][0-9]{9}$"
   ]
  },
  {
   "cell_type": "code",
   "execution_count": 2,
   "metadata": {},
   "outputs": [
    {
     "name": "stdout",
     "output_type": "stream",
     "text": [
      "True\n",
      "True\n",
      "True\n",
      "False\n",
      "False\n",
      "False\n"
     ]
    }
   ],
   "source": [
    "import re\n",
    "def validateIndiannumber(s):\n",
    "    pattern='^[6-9][0-9]{9}$|^[0][6-9][0-9]{9}$|^[+][9][1][6-9][0-9]{9}$'\n",
    "    if re.match(pattern,s):\n",
    "        return True\n",
    "    return  False\n",
    "print(validateIndiannumber('9851741520'))\n",
    "print(validateIndiannumber('09851741520'))\n",
    "print(validateIndiannumber('+919851741520'))\n",
    "print(validateIndiannumber('5851741520'))\n",
    "print(validateIndiannumber('05851741520'))\n",
    "print(validateIndiannumber('+913851741520'))"
   ]
  },
  {
   "cell_type": "markdown",
   "metadata": {},
   "source": [
    "### Vailidate the Email Id\n",
    "- example : Username@Domainname:extension\n",
    "- Example : dsps@gmail.com\n",
    "- username :\n",
    "    - Len of string will be [6-15]\n",
    "    - no spl character except underscore(_) and dot(.)\n",
    "    - username should not begin with underscore(_)\n",
    "    - all characters set digits,lower case and upper case\n",
    "        - example : Anil_1889\n",
    "- DomainName\n",
    "    - len of string will be [3-18]\n",
    "    - no spls characters\n",
    "    - character set will be digits,lower case and upper case\n",
    "        - example : gmail,hotmail,ymail,rediff and etc\n",
    "- extensions:\n",
    "    - len of string will be [2-4]\n",
    "    - No spl charcters allowed\n",
    "    - Character set will be lower case charcters"
   ]
  },
  {
   "cell_type": "code",
   "execution_count": 3,
   "metadata": {},
   "outputs": [
    {
     "name": "stdout",
     "output_type": "stream",
     "text": [
      "True\n",
      "True\n",
      "True\n",
      "False\n",
      "True\n",
      "False\n"
     ]
    }
   ],
   "source": [
    "def validateemail(s):\n",
    "    pattern='^[a-zA-Z0-9][a-zA-Z0-9_.]{5,14}[@][a-zA-Z0-9]{3,18}[.][a-z]{2,4}$'\n",
    "    if re.match(pattern,s):\n",
    "        return True\n",
    "    return  False\n",
    "print(validateemail('9851741520@gmail.com'))\n",
    "print(validateemail('90rakesh@hjhsj.in'))\n",
    "print(validateemail('Rakesh@gmail.com'))\n",
    "print(validateemail('rakesh!gmail,com'))\n",
    "print(validateemail('RAKESH_.@9099.qwef'))\n",
    "print(validateemail('qwerty@6277.2323'))"
   ]
  },
  {
   "cell_type": "markdown",
   "metadata": {},
   "source": [
    "## Python Graphics\n",
    "- lib - turtle"
   ]
  },
  {
   "cell_type": "markdown",
   "metadata": {},
   "source": [
    "## Package, Module and Sub Package\n",
    "- Package\n",
    "    - A collection of Modules(Single Python file .py) \n",
    "- Module\n",
    "    - A single Python File contains group of function\n",
    "\n",
    "    - Package - > Sub Package - > Modules - > Functions - > Statements\n",
    "\n",
    "    - import keyword is used to import the external lib packages into the python program"
   ]
  },
  {
   "cell_type": "code",
   "execution_count": 10,
   "metadata": {},
   "outputs": [
    {
     "data": {
      "text/plain": [
       "123"
      ]
     },
     "execution_count": 10,
     "metadata": {},
     "output_type": "execute_result"
    }
   ],
   "source": [
    "import math\n",
    "math.floor(123.456)"
   ]
  },
  {
   "cell_type": "code",
   "execution_count": 11,
   "metadata": {},
   "outputs": [
    {
     "data": {
      "text/plain": [
       "124"
      ]
     },
     "execution_count": 11,
     "metadata": {},
     "output_type": "execute_result"
    }
   ],
   "source": [
    "math.ceil(123.456)"
   ]
  },
  {
   "cell_type": "code",
   "execution_count": 12,
   "metadata": {},
   "outputs": [
    {
     "data": {
      "text/plain": [
       "3628800"
      ]
     },
     "execution_count": 12,
     "metadata": {},
     "output_type": "execute_result"
    }
   ],
   "source": [
    "from math import factorial as fact\n",
    "fact(10)"
   ]
  },
  {
   "cell_type": "code",
   "execution_count": 13,
   "metadata": {},
   "outputs": [
    {
     "data": {
      "text/plain": [
       "5"
      ]
     },
     "execution_count": 13,
     "metadata": {},
     "output_type": "execute_result"
    }
   ],
   "source": [
    "from math import gcd as gcd\n",
    "gcd(10,15)"
   ]
  },
  {
   "cell_type": "code",
   "execution_count": 18,
   "metadata": {},
   "outputs": [
    {
     "name": "stdout",
     "output_type": "stream",
     "text": [
      "98 89 8 23 35 92 24 74 10 89 "
     ]
    }
   ],
   "source": [
    "# import random package\n",
    "import random\n",
    "# function to generate the N numbers in given range\n",
    "def generateRandom(n,lb,ub):\n",
    "    for i in range (0,n):\n",
    "        print(random.randint(lb,ub),end=\" \")\n",
    "    return\n",
    "generateRandom(10,0,100)"
   ]
  },
  {
   "cell_type": "code",
   "execution_count": 17,
   "metadata": {},
   "outputs": [],
   "source": [
    "# create a game\n",
    "# try to generate 20 numbers\n",
    "#input :number\n",
    "# present : Congrats!!!\n",
    "# not present : try again"
   ]
  },
  {
   "cell_type": "code",
   "execution_count": 266,
   "metadata": {},
   "outputs": [
    {
     "name": "stdout",
     "output_type": "stream",
     "text": [
      "Congrats!!!\n"
     ]
    }
   ],
   "source": [
    "from random import randint as rdint\n",
    "def generateNumber(n,lb,ub):\n",
    "    li=[]\n",
    "    for i in range (0,n):\n",
    "        li.append(rdint(lb,ub))\n",
    "    return li\n",
    "def check(n):\n",
    "    li=generateNumber(20,100,999)\n",
    "    if n in li:\n",
    "        print('Congrats!!!')\n",
    "    else:\n",
    "        print(\"Try again!!!\")\n",
    "    return\n",
    "check(569)"
   ]
  },
  {
   "cell_type": "code",
   "execution_count": null,
   "metadata": {},
   "outputs": [],
   "source": [
    "#Import the package turtle\n",
    "#all the commands available in this file\n",
    "import turtle\n",
    "# create a new turtle\n",
    "a1=turtle.Turtle()\n",
    "a1.goto(-100,0)\n",
    "# draw a line\n",
    "a1.forward(250)\n",
    "#done() -- close the window\n",
    "turtle.done()"
   ]
  },
  {
   "cell_type": "code",
   "execution_count": null,
   "metadata": {},
   "outputs": [],
   "source": [
    "import turtle as tt\n",
    "a1=tt.Turtle()\n",
    "a1.backward(150)\n",
    "tt.done()"
   ]
  },
  {
   "cell_type": "code",
   "execution_count": null,
   "metadata": {},
   "outputs": [],
   "source": [
    "# Draw a square \n",
    "import turtle as tt\n",
    "a1=tt.Turtle()\n",
    "a1.forward(150)\n",
    "a1.right(90)\n",
    "a1.forward(150)\n",
    "a1.right(90)\n",
    "a1.forward(150)\n",
    "a1.right(90)\n",
    "a1.forward(150)\n",
    "a1.right(90)\n",
    "tt.done()"
   ]
  },
  {
   "cell_type": "code",
   "execution_count": null,
   "metadata": {},
   "outputs": [],
   "source": [
    "import turtle as tt\n",
    "a1=tt.Turtle()\n",
    "for i in range (4):\n",
    "    a1.forward(150)\n",
    "    a1.right(90)\n",
    "tt.done()"
   ]
  },
  {
   "cell_type": "code",
   "execution_count": 1,
   "metadata": {},
   "outputs": [],
   "source": [
    "# Draw a star\n",
    "import turtle as t\n",
    "a1 = t.Turtle()\n",
    "for i in range (40):\n",
    "    a1.forward(50)\n",
    "    a1.right(144)\n",
    "t.done()"
   ]
  }
 ],
 "metadata": {
  "kernelspec": {
   "display_name": "Python 3",
   "language": "python",
   "name": "python3"
  },
  "language_info": {
   "codemirror_mode": {
    "name": "ipython",
    "version": 3
   },
   "file_extension": ".py",
   "mimetype": "text/x-python",
   "name": "python",
   "nbconvert_exporter": "python",
   "pygments_lexer": "ipython3",
   "version": "3.7.3"
  }
 },
 "nbformat": 4,
 "nbformat_minor": 2
}
