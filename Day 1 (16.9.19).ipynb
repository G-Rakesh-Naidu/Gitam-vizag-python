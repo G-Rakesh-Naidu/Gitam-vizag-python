{
 "cells": [
  {
   "cell_type": "markdown",
   "metadata": {},
   "source": [
    "# Python Programming and Markdown"
   ]
  },
  {
   "cell_type": "markdown",
   "metadata": {},
   "source": [
    "## python programming\n",
    "\n",
    "- Point 1\n",
    "    - Point 11\n",
    "- Point 2\n",
    "    - Point 21\n",
    "    - Point 22\n",
    "- Point 3"
   ]
  },
  {
   "cell_type": "markdown",
   "metadata": {},
   "source": [
    "* *Point1*\n",
    "* **Point2**\n",
    "    * **point 2.1**\n",
    "* ***Point3***"
   ]
  },
  {
   "cell_type": "markdown",
   "metadata": {},
   "source": [
    "<img src='python.jpeg' />"
   ]
  },
  {
   "cell_type": "markdown",
   "metadata": {},
   "source": [
    "# Adding the linking to Markdown\n",
    "* Google site - [Google][1]\n",
    "[1]:http://www.google.com"
   ]
  },
  {
   "cell_type": "markdown",
   "metadata": {},
   "source": [
    "### Python Programming\n",
    "- Python version 3.7\n",
    "- Functional language\n",
    "- Object oreinted programming\n",
    "- scripting programming"
   ]
  },
  {
   "cell_type": "code",
   "execution_count": 1,
   "metadata": {},
   "outputs": [
    {
     "name": "stdout",
     "output_type": "stream",
     "text": [
      "hello\n"
     ]
    }
   ],
   "source": [
    "print('hello')"
   ]
  },
  {
   "cell_type": "code",
   "execution_count": 2,
   "metadata": {},
   "outputs": [
    {
     "name": "stdout",
     "output_type": "stream",
     "text": [
      "hello\n",
      "vizag\n"
     ]
    }
   ],
   "source": [
    "print(\"hello\")\n",
    "print(\"vizag\")"
   ]
  },
  {
   "cell_type": "code",
   "execution_count": 5,
   "metadata": {},
   "outputs": [
    {
     "name": "stdout",
     "output_type": "stream",
     "text": [
      "hello gitam ||| vizag\n"
     ]
    }
   ],
   "source": [
    "print('hello gitam','|||',end=' ')\n",
    "print('vizag')"
   ]
  },
  {
   "cell_type": "markdown",
   "metadata": {},
   "source": [
    "# Data types and data conversion\n",
    "- int\n",
    "- float\n",
    "- string"
   ]
  },
  {
   "cell_type": "code",
   "execution_count": 9,
   "metadata": {},
   "outputs": [
    {
     "name": "stdout",
     "output_type": "stream",
     "text": [
      "100\n",
      "<class 'int'>\n"
     ]
    }
   ],
   "source": [
    "a=100\n",
    "print(a)\n",
    "print(type(a))"
   ]
  },
  {
   "cell_type": "code",
   "execution_count": 18,
   "metadata": {},
   "outputs": [
    {
     "name": "stdout",
     "output_type": "stream",
     "text": [
      "1.0032662622622566e+24\n",
      "python programming\n",
      "python\n",
      "hello\n",
      "<class 'float'>\n",
      "<class 'str'>\n",
      "<class 'str'>\n",
      "<class 'str'>\n"
     ]
    }
   ],
   "source": [
    "a=1003266262262256656566566.5554455454545\n",
    "s='python programming'\n",
    "s1=\"python\"\n",
    "s2='''hello'''\n",
    "print(a)\n",
    "print(s)\n",
    "print(s1)\n",
    "print(s2)\n",
    "print(type(a))\n",
    "print(type(s))\n",
    "print(type(s1))\n",
    "print(type(s2))"
   ]
  },
  {
   "cell_type": "code",
   "execution_count": 21,
   "metadata": {},
   "outputs": [
    {
     "name": "stdout",
     "output_type": "stream",
     "text": [
      "100<class 'int'>\n",
      "100<class 'str'>\n"
     ]
    }
   ],
   "source": [
    "a=100\n",
    "print(a,end='')\n",
    "print(type(a))\n",
    "s1=str(a)#coverts int into float\n",
    "print(s1,end=\"\")\n",
    "print(type(s1))"
   ]
  },
  {
   "cell_type": "code",
   "execution_count": 22,
   "metadata": {},
   "outputs": [
    {
     "name": "stdout",
     "output_type": "stream",
     "text": [
      "100<class 'str'>\n",
      "100<class 'int'>\n"
     ]
    }
   ],
   "source": [
    "s1=\"100\"\n",
    "print(s1,end=\"\")\n",
    "print(type(s1))\n",
    "a1=int(s1)\n",
    "print(a1,end=\"\")\n",
    "print(type(a1))"
   ]
  },
  {
   "cell_type": "code",
   "execution_count": 33,
   "metadata": {},
   "outputs": [
    {
     "name": "stdout",
     "output_type": "stream",
     "text": [
      "100.23<class 'str'>\n",
      "100.23<class 'float'>\n",
      "100<class 'int'>\n"
     ]
    }
   ],
   "source": [
    "s1=\"100.23\"\n",
    "print(s1,end=\"\")\n",
    "print(type(s1))\n",
    "a1= float(s1)\n",
    "print(a1,end=\"\")\n",
    "print(type(a1))\n",
    "a2= int(a1)\n",
    "print(a2,end='')\n",
    "print(type(a2))"
   ]
  },
  {
   "cell_type": "code",
   "execution_count": 34,
   "metadata": {},
   "outputs": [
    {
     "name": "stdout",
     "output_type": "stream",
     "text": [
      "6\n"
     ]
    }
   ],
   "source": [
    "a=123445\n",
    "print(len(str(a)))"
   ]
  },
  {
   "cell_type": "markdown",
   "metadata": {},
   "source": [
    "# input() function\n",
    "- read the input to the program\n",
    "- basically reads the input in terms of string format\n",
    "- if we need another type we need to write int(input...)"
   ]
  },
  {
   "cell_type": "code",
   "execution_count": 37,
   "metadata": {},
   "outputs": [
    {
     "name": "stdout",
     "output_type": "stream",
     "text": [
      "enter ur name:rakesh\n",
      "rakesh <class 'str'>\n"
     ]
    }
   ],
   "source": [
    "s1= input('enter ur name:')\n",
    "print(s1,type(s1))"
   ]
  },
  {
   "cell_type": "code",
   "execution_count": 43,
   "metadata": {},
   "outputs": [
    {
     "name": "stdout",
     "output_type": "stream",
     "text": [
      "enter a number100\n",
      "100 <class 'str'>\n"
     ]
    }
   ],
   "source": [
    "a1=int(input('enter a number'))\n",
    "a1=str(a1)\n",
    "print(a1,type(a1))"
   ]
  },
  {
   "cell_type": "markdown",
   "metadata": {},
   "source": [
    "# operators\n",
    "- + \n",
    "- plus\n",
    "- - \n",
    "- minus\n",
    "- / \n",
    "- divide\n",
    "- *\n",
    "- multiply\n",
    "- % \n",
    "- remainder\n",
    "- //\n",
    "- quotient without float\n",
    "- ** \n",
    "- power"
   ]
  },
  {
   "cell_type": "code",
   "execution_count": 46,
   "metadata": {},
   "outputs": [
    {
     "name": "stdout",
     "output_type": "stream",
     "text": [
      "3.3333333333333335\n",
      "3\n",
      "8\n",
      "7\n",
      "68\n",
      "1\n",
      "13\n"
     ]
    }
   ],
   "source": [
    "print(10/3)\n",
    "print(10//3)\n",
    "print(2**3)\n",
    "print(10-3)\n",
    "print(2*34)\n",
    "print(10%3)\n",
    "print(10+3)"
   ]
  },
  {
   "cell_type": "code",
   "execution_count": 45,
   "metadata": {},
   "outputs": [
    {
     "name": "stdout",
     "output_type": "stream",
     "text": [
      "8.0\n"
     ]
    }
   ],
   "source": [
    "# preceding levels of operators\n",
    "# power.division,addition\n",
    "x=1+2**3/4+5\n",
    "print(x)"
   ]
  },
  {
   "cell_type": "markdown",
   "metadata": {},
   "source": [
    "# logical operators\n",
    "- and\n",
    "- or\n",
    "- not"
   ]
  },
  {
   "cell_type": "code",
   "execution_count": 50,
   "metadata": {},
   "outputs": [
    {
     "name": "stdout",
     "output_type": "stream",
     "text": [
      "False <class 'bool'>\n",
      "True <class 'bool'>\n"
     ]
    }
   ],
   "source": [
    "a=10\n",
    "b=(a<9) and (a>=10)\n",
    "print(b,type(b))\n",
    "b=(a>9) or (a>100)\n",
    "print(b,type(b))"
   ]
  },
  {
   "cell_type": "markdown",
   "metadata": {},
   "source": [
    "# control flow statements\n",
    "- conditional statements\n",
    "    - if-else\n",
    "- looping statements\n",
    "    - while\n",
    "    - for"
   ]
  },
  {
   "cell_type": "code",
   "execution_count": 1,
   "metadata": {},
   "outputs": [
    {
     "name": "stdout",
     "output_type": "stream",
     "text": [
      "23\n",
      "positive\n"
     ]
    }
   ],
   "source": [
    "# print the output as zero,positive or negative\n",
    "a1=int(input(''))\n",
    "if a1==0:\n",
    "    print(\"zero\")\n",
    "elif a1>0:\n",
    "    print(\"positive\")\n",
    "else:\n",
    "    print(\"negative\")"
   ]
  },
  {
   "cell_type": "code",
   "execution_count": 4,
   "metadata": {},
   "outputs": [
    {
     "name": "stdout",
     "output_type": "stream",
     "text": [
      "12\n",
      "even\n"
     ]
    }
   ],
   "source": [
    "# read a number as input\n",
    "# print the output as even or odd\n",
    "a1=int(input(''))\n",
    "if a1%2==0:\n",
    "    print(\"even\")\n",
    "else:\n",
    "    print(\"odd\")"
   ]
  },
  {
   "cell_type": "markdown",
   "metadata": {},
   "source": [
    "# _string_"
   ]
  }
 ],
 "metadata": {
  "kernelspec": {
   "display_name": "Python 3",
   "language": "python",
   "name": "python3"
  },
  "language_info": {
   "codemirror_mode": {
    "name": "ipython",
    "version": 3
   },
   "file_extension": ".py",
   "mimetype": "text/x-python",
   "name": "python",
   "nbconvert_exporter": "python",
   "pygments_lexer": "ipython3",
   "version": "3.7.3"
  }
 },
 "nbformat": 4,
 "nbformat_minor": 2
}
