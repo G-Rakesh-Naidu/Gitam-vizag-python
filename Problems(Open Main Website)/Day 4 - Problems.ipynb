{
 "cells": [
  {
   "cell_type": "code",
   "execution_count": 1,
   "metadata": {},
   "outputs": [
    {
     "name": "stdout",
     "output_type": "stream",
     "text": [
      "True\n",
      "False\n",
      "True\n",
      "False\n"
     ]
    }
   ],
   "source": [
    "# problem 1\n",
    "import re\n",
    "def validaterollnumber(s):\n",
    "    pattern='^[1][0-5][0-9]{0,2}[A-Z][0-9]{4}$'\n",
    "    if re.match(pattern,s):\n",
    "        return True\n",
    "    return False\n",
    "print(validaterollnumber('1236A5455'))\n",
    "print(validaterollnumber('1736A5455'))\n",
    "print(validaterollnumber('1521A0501'))\n",
    "print(validaterollnumber('1621A0574 '))"
   ]
  },
  {
   "cell_type": "code",
   "execution_count": 2,
   "metadata": {},
   "outputs": [
    {
     "name": "stdout",
     "output_type": "stream",
     "text": [
      "True\n",
      "True\n",
      "False\n"
     ]
    }
   ],
   "source": [
    "# problem 2\n",
    "def validatepassword(s):\n",
    "    pattern='^[a-zA-Z@!#0-9]{6,10}$'\n",
    "    if re.match(pattern,s):\n",
    "        return True\n",
    "    return False\n",
    "print(validatepassword('AnilKumar@'))\n",
    "print(validatepassword('Pass123@21'))\n",
    "print(validatepassword('Pass12*21'))"
   ]
  },
  {
   "cell_type": "code",
   "execution_count": 3,
   "metadata": {
    "scrolled": true
   },
   "outputs": [
    {
     "data": {
      "text/plain": [
       "['__doc__',\n",
       " '__loader__',\n",
       " '__name__',\n",
       " '__package__',\n",
       " '__spec__',\n",
       " 'acos',\n",
       " 'acosh',\n",
       " 'asin',\n",
       " 'asinh',\n",
       " 'atan',\n",
       " 'atan2',\n",
       " 'atanh',\n",
       " 'ceil',\n",
       " 'copysign',\n",
       " 'cos',\n",
       " 'cosh',\n",
       " 'degrees',\n",
       " 'e',\n",
       " 'erf',\n",
       " 'erfc',\n",
       " 'exp',\n",
       " 'expm1',\n",
       " 'fabs',\n",
       " 'factorial',\n",
       " 'floor',\n",
       " 'fmod',\n",
       " 'frexp',\n",
       " 'fsum',\n",
       " 'gamma',\n",
       " 'gcd',\n",
       " 'hypot',\n",
       " 'inf',\n",
       " 'isclose',\n",
       " 'isfinite',\n",
       " 'isinf',\n",
       " 'isnan',\n",
       " 'ldexp',\n",
       " 'lgamma',\n",
       " 'log',\n",
       " 'log10',\n",
       " 'log1p',\n",
       " 'log2',\n",
       " 'modf',\n",
       " 'nan',\n",
       " 'pi',\n",
       " 'pow',\n",
       " 'radians',\n",
       " 'remainder',\n",
       " 'sin',\n",
       " 'sinh',\n",
       " 'sqrt',\n",
       " 'tan',\n",
       " 'tanh',\n",
       " 'tau',\n",
       " 'trunc']"
      ]
     },
     "execution_count": 3,
     "metadata": {},
     "output_type": "execute_result"
    }
   ],
   "source": [
    "import math\n",
    "dir(math)"
   ]
  },
  {
   "cell_type": "code",
   "execution_count": 11,
   "metadata": {},
   "outputs": [
    {
     "name": "stdout",
     "output_type": "stream",
     "text": [
      "1211212\n",
      "1\n",
      "100\n",
      "100\n",
      "5.0\n",
      "8.0\n",
      "3.141592653589793\n",
      "1.0\n",
      "0.8939966636005579\n",
      "455\n",
      "5564\n"
     ]
    }
   ],
   "source": [
    "print(max(12,1,1212,1211212))\n",
    "print(min(12,1,1212,1211212))\n",
    "print(abs(100))\n",
    "print(abs(-100))\n",
    "print(math.sqrt(25))\n",
    "print(math.pow(2,3))\n",
    "print(math.pi)\n",
    "print(math.cos(0))\n",
    "print(math.sin(90))\n",
    "print(math.ceil(454.564))\n",
    "print(math.floor(5564.4656))"
   ]
  },
  {
   "cell_type": "code",
   "execution_count": 12,
   "metadata": {},
   "outputs": [
    {
     "name": "stdout",
     "output_type": "stream",
     "text": [
      "7011\n"
     ]
    }
   ],
   "source": [
    "import random\n",
    "def fourdigitnum(lb,ub):\n",
    "    print(random.randint(lb,ub))\n",
    "    return\n",
    "fourdigitnum(1000,9999)"
   ]
  },
  {
   "cell_type": "code",
   "execution_count": null,
   "metadata": {},
   "outputs": [],
   "source": [
    "import turtle\n",
    "a1=turtle.Turtle()\n",
    "for i in range (4):\n",
    "    a1.backward(100)\n",
    "    a1.left(90)\n",
    "turtle.done()"
   ]
  }
 ],
 "metadata": {
  "kernelspec": {
   "display_name": "Python 3",
   "language": "python",
   "name": "python3"
  },
  "language_info": {
   "codemirror_mode": {
    "name": "ipython",
    "version": 3
   },
   "file_extension": ".py",
   "mimetype": "text/x-python",
   "name": "python",
   "nbconvert_exporter": "python",
   "pygments_lexer": "ipython3",
   "version": "3.7.3"
  }
 },
 "nbformat": 4,
 "nbformat_minor": 2
}
