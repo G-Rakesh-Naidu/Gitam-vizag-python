{
 "cells": [
  {
   "cell_type": "code",
   "execution_count": null,
   "metadata": {},
   "outputs": [],
   "source": []
  },
  {
   "cell_type": "code",
   "execution_count": 31,
   "metadata": {},
   "outputs": [
    {
     "name": "stdout",
     "output_type": "stream",
     "text": [
      " 6\n",
      "1 2 3 6 "
     ]
    }
   ],
   "source": [
    "#problem 1\n",
    "def factors(n):\n",
    "    for i in range (1,n+1):\n",
    "        if(n%i==0):\n",
    "            print(i,end=' ')\n",
    "n=int(input(' '))\n",
    "factors(n)"
   ]
  },
  {
   "cell_type": "code",
   "execution_count": 7,
   "metadata": {},
   "outputs": [
    {
     "name": "stdout",
     "output_type": "stream",
     "text": [
      " 5\n",
      "prime\n"
     ]
    }
   ],
   "source": [
    "#problem 2\n",
    "def prime(n):\n",
    "    flag=0\n",
    "    for i in range (2,n):\n",
    "        if(n%i==0):\n",
    "            flag=1\n",
    "            break\n",
    "    return flag\n",
    "n=int(input(' '))\n",
    "s=prime(n)\n",
    "if(s==1):\n",
    "    print(\"not prime\")\n",
    "else:\n",
    "    print(\"prime\")"
   ]
  },
  {
   "cell_type": "code",
   "execution_count": 35,
   "metadata": {},
   "outputs": [
    {
     "name": "stdout",
     "output_type": "stream",
     "text": [
      " 100\n",
      "2 3 5 7 11 13 17 19 23 29 31 37 41 43 47 53 59 61 67 71 73 79 83 89 97 \n",
      "Number of primes= 25\n"
     ]
    }
   ],
   "source": [
    "#problem 3\n",
    "def primes(n):\n",
    "    flag=0\n",
    "    ct=0\n",
    "    for i in range (2,n+1):\n",
    "        for j in range (2,i):\n",
    "            if(i%j==0):\n",
    "                flag=1\n",
    "                break\n",
    "        if (flag==0):\n",
    "            print(i,end=\" \")\n",
    "            ct=ct+1\n",
    "        flag=0\n",
    "    return ct\n",
    "n=int(input(' '))\n",
    "s=primes(n)\n",
    "print(\"\\nNumber of primes=\",s)"
   ]
  },
  {
   "cell_type": "code",
   "execution_count": 34,
   "metadata": {},
   "outputs": [
    {
     "data": {
      "text/plain": [
       "18"
      ]
     },
     "execution_count": 34,
     "metadata": {},
     "output_type": "execute_result"
    }
   ],
   "source": [
    "#problem 4\n",
    "def palindromes(n):\n",
    "    a=0\n",
    "    ct=0\n",
    "    for i in range (1,n+1):\n",
    "        q=i\n",
    "        while i!=0:\n",
    "            a=a*10+(i%10)\n",
    "            i=i//10\n",
    "        if q==a:\n",
    "            ct+=1\n",
    "        a=0\n",
    "    return ct\n",
    "palindromes(100)"
   ]
  },
  {
   "cell_type": "code",
   "execution_count": 5,
   "metadata": {},
   "outputs": [
    {
     "data": {
      "text/plain": [
       "6"
      ]
     },
     "execution_count": 5,
     "metadata": {},
     "output_type": "execute_result"
    }
   ],
   "source": [
    "#problem 5\n",
    "def count(n):\n",
    "    ct=0\n",
    "    while n!=0:\n",
    "        r=n%10\n",
    "        if r==0 or r==4 or r==6 or r==9:\n",
    "            ct=ct+1\n",
    "        elif r==8:\n",
    "            ct+=2\n",
    "        n=n//10\n",
    "    return ct\n",
    "count(46809)"
   ]
  }
 ],
 "metadata": {
  "kernelspec": {
   "display_name": "Python 3",
   "language": "python",
   "name": "python3"
  },
  "language_info": {
   "codemirror_mode": {
    "name": "ipython",
    "version": 3
   },
   "file_extension": ".py",
   "mimetype": "text/x-python",
   "name": "python",
   "nbconvert_exporter": "python",
   "pygments_lexer": "ipython3",
   "version": "3.7.3"
  }
 },
 "nbformat": 4,
 "nbformat_minor": 2
}
