{
 "cells": [
  {
   "cell_type": "markdown",
   "metadata": {},
   "source": [
    "# Control statements\n",
    "- conditional statements\n",
    "    - if-else\n",
    "- looping statements\n",
    "    - while\n",
    "    - for"
   ]
  },
  {
   "cell_type": "code",
   "execution_count": 5,
   "metadata": {},
   "outputs": [
    {
     "name": "stdout",
     "output_type": "stream",
     "text": [
      "2020\n",
      "leap year\n"
     ]
    }
   ],
   "source": [
    "#check the input is leap year or not\n",
    "year=int(input(''))\n",
    "if(year%400==0 or (year%100!=0 and year%4==0)):\n",
    "    print(\"leap year\")\n",
    "else:\n",
    "    print(\"not a leap year\")"
   ]
  },
  {
   "cell_type": "markdown",
   "metadata": {},
   "source": [
    "# while loop"
   ]
  },
  {
   "cell_type": "code",
   "execution_count": 7,
   "metadata": {},
   "outputs": [
    {
     "name": "stdout",
     "output_type": "stream",
     "text": [
      "19\n",
      "1 2 3 4 5 6 7 8 9 10 11 12 13 14 15 16 17 18 19 "
     ]
    }
   ],
   "source": [
    "#print numbers from 1 to n\n",
    "#input 10\n",
    "#output :1 2 3 4 .....10\n",
    "n=int(input(''))\n",
    "i=1\n",
    "while i<=n:\n",
    "    print(i,end=' ')\n",
    "    i=i+1"
   ]
  },
  {
   "cell_type": "code",
   "execution_count": 5,
   "metadata": {},
   "outputs": [
    {
     "name": "stdout",
     "output_type": "stream",
     "text": [
      "10\n",
      "0 2 4 6 8 10 \n",
      "sum= 30\n"
     ]
    }
   ],
   "source": [
    "#read a number as input and print output as even numbers sum from 1 to n\n",
    "n=int(input(''))\n",
    "s=0\n",
    "i=0\n",
    "while i<=n:\n",
    "    if(i%2==0):\n",
    "        print(i,end=' ')\n",
    "        s=s+i\n",
    "    i=i+1\n",
    "print(\"\\nsum=\",s)"
   ]
  },
  {
   "cell_type": "code",
   "execution_count": 13,
   "metadata": {},
   "outputs": [
    {
     "name": "stdout",
     "output_type": "stream",
     "text": [
      "123\n",
      "3 2 1 "
     ]
    }
   ],
   "source": [
    "#read a number\n",
    "#output has to be digits of number\n",
    "#input:123\n",
    "#output:321\n",
    "n=int(input(''))\n",
    "while n!=0:\n",
    "    print(n%10,end=' ')\n",
    "    n=n//10"
   ]
  },
  {
   "cell_type": "markdown",
   "metadata": {},
   "source": [
    "# Functional programming\n",
    "- simple\n",
    "- esy understand\n",
    "- better reusability\n",
    "- lengthy program will be divided into sub programs"
   ]
  },
  {
   "cell_type": "code",
   "execution_count": 24,
   "metadata": {},
   "outputs": [],
   "source": [
    "def nameofthefunction (parameters):\n",
    "    statements\n",
    "    return"
   ]
  },
  {
   "cell_type": "code",
   "execution_count": 23,
   "metadata": {},
   "outputs": [
    {
     "data": {
      "text/plain": [
       "6"
      ]
     },
     "execution_count": 23,
     "metadata": {},
     "output_type": "execute_result"
    }
   ],
   "source": [
    "#read a number\n",
    "#print the even digit sum from the number\n",
    "#input:1234\n",
    "# output:2+4=6\n",
    "def evenDigitSum(n):\n",
    "    s=0\n",
    "    while n!=0:\n",
    "        if((n%10)%2==0):\n",
    "            s=s+n%10\n",
    "        n=n//10\n",
    "    return s\n",
    "evenDigitSum(1234)"
   ]
  },
  {
   "cell_type": "code",
   "execution_count": 29,
   "metadata": {},
   "outputs": [
    {
     "data": {
      "text/plain": [
       "9"
      ]
     },
     "execution_count": 29,
     "metadata": {},
     "output_type": "execute_result"
    }
   ],
   "source": [
    "#input :19535\n",
    "#output :9(large digit in given number)\n",
    "def large(n):\n",
    "    lar=0\n",
    "    while n!=0:\n",
    "        if(n%10>lar):\n",
    "            lar=n%10\n",
    "        n=n//10\n",
    "    return lar\n",
    "large(123456789)"
   ]
  },
  {
   "cell_type": "code",
   "execution_count": 1,
   "metadata": {},
   "outputs": [
    {
     "name": "stdout",
     "output_type": "stream",
     "text": [
      "145\n",
      "yes\n"
     ]
    }
   ],
   "source": [
    "#read a number as input\n",
    "#output y or n\n",
    "#input=145\n",
    "#output =y\n",
    "#input =123\n",
    "#output=no\n",
    "#individual digit factorial sum is same as input number\n",
    "def yesorno(n):\n",
    "    s=0\n",
    "    while n!=0:\n",
    "        s=s+fact(n%10)\n",
    "        n=n//10\n",
    "    return s\n",
    "def fact(n):\n",
    "    q=1\n",
    "    while n>=1:\n",
    "        q=q*n\n",
    "        n=n-1\n",
    "    return q\n",
    "n=int(input(''))\n",
    "s=yesorno(n)\n",
    "if(n==s):\n",
    "    print(\"yes\")\n",
    "else:\n",
    "    print(\"no\")"
   ]
  },
  {
   "cell_type": "code",
   "execution_count": 7,
   "metadata": {},
   "outputs": [
    {
     "name": "stdout",
     "output_type": "stream",
     "text": [
      "not palindrome\n",
      "palindrome\n"
     ]
    }
   ],
   "source": [
    "#palindrome or not\n",
    "def palindrome(n):\n",
    "    a=0\n",
    "    q=n\n",
    "    while n!=0:\n",
    "        a=10*a+n%10\n",
    "        n=n//10\n",
    "    if q==a:\n",
    "        return \"palindrome\"\n",
    "    else:\n",
    "        return \"not palindrome\"\n",
    "print(palindrome(123))\n",
    "print(palindrome(121))"
   ]
  },
  {
   "cell_type": "markdown",
   "metadata": {},
   "source": [
    "# for loop\n",
    "- while \n",
    "    - used when we dont know the number of iterations\n",
    "- for\n",
    "    - used when we know number of iterations"
   ]
  },
  {
   "cell_type": "code",
   "execution_count": 13,
   "metadata": {},
   "outputs": [
    {
     "name": "stdout",
     "output_type": "stream",
     "text": [
      "11 12 13 14 15 16 17 18 19 20 21 22 23 24 25 "
     ]
    }
   ],
   "source": [
    "#function to print the numbers betwwen two numbers\n",
    "#input =11 25\n",
    "#output=11 12 13........25\n",
    "def printseries(lb,ub):\n",
    "    for x in range(lb,ub+1):\n",
    "        print(x,end=' ')\n",
    "    return\n",
    "printseries(11,25)"
   ]
  },
  {
   "cell_type": "code",
   "execution_count": 14,
   "metadata": {},
   "outputs": [
    {
     "name": "stdout",
     "output_type": "stream",
     "text": [
      "500 502 504 506 508 510 512 514 516 518 520 "
     ]
    }
   ],
   "source": [
    "#function to print alternate numbers\n",
    "#[500,520]--500 502 504.....520\n",
    "def printseries(lb,ub):\n",
    "    for x in range(lb,ub+1,2):\n",
    "        print(x,end=' ')\n",
    "    return\n",
    "printseries(500,520)"
   ]
  },
  {
   "cell_type": "code",
   "execution_count": 16,
   "metadata": {},
   "outputs": [
    {
     "name": "stdout",
     "output_type": "stream",
     "text": [
      "500 504 508 512 516 520 "
     ]
    }
   ],
   "source": [
    "#[500,520]--500 504 .....520\n",
    "def printseries(lb,ub):\n",
    "    for x in range(lb,ub+1,4):\n",
    "        print(x,end=' ')\n",
    "    return\n",
    "printseries(500,520)"
   ]
  }
 ],
 "metadata": {
  "kernelspec": {
   "display_name": "Python 3",
   "language": "python",
   "name": "python3"
  },
  "language_info": {
   "codemirror_mode": {
    "name": "ipython",
    "version": 3
   },
   "file_extension": ".py",
   "mimetype": "text/x-python",
   "name": "python",
   "nbconvert_exporter": "python",
   "pygments_lexer": "ipython3",
   "version": "3.7.3"
  }
 },
 "nbformat": 4,
 "nbformat_minor": 2
}
